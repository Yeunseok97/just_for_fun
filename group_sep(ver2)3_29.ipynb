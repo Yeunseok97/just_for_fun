{
  "nbformat": 4,
  "nbformat_minor": 0,
  "metadata": {
    "colab": {
      "provenance": [],
      "authorship_tag": "ABX9TyPh1g/CTW4OcstucIZPKRv+",
      "include_colab_link": true
    },
    "kernelspec": {
      "name": "python3",
      "display_name": "Python 3"
    },
    "language_info": {
      "name": "python"
    }
  },
  "cells": [
    {
      "cell_type": "markdown",
      "metadata": {
        "id": "view-in-github",
        "colab_type": "text"
      },
      "source": [
        "<a href=\"https://colab.research.google.com/github/Yeunseok97/just_for_fun/blob/main/group_sep(ver2)3_29.ipynb\" target=\"_parent\"><img src=\"https://colab.research.google.com/assets/colab-badge.svg\" alt=\"Open In Colab\"/></a>"
      ]
    },
    {
      "cell_type": "code",
      "source": [
        "import random\n",
        "\n",
        "def shuffle_list(lst):\n",
        "    random.shuffle(lst)\n",
        "\n",
        "\n",
        "def distribute_elements(lst, n):\n",
        "\n",
        "    shuffle_list(lst)\n",
        "\n",
        "    quotient, remainder = divmod(len(lst), n)\n",
        "\n",
        "    new_lst = []\n",
        "    \n",
        "\n",
        "    for i in range(n):\n",
        "        \n",
        "        # Calculate the start and end indices for this portion of the list\n",
        "        start_index = i * quotient + min(i, remainder)\n",
        "        end_index = start_index + quotient + (1 if i < remainder else 0)\n",
        "        \n",
        "        # Add this portion of the shuffled list to the new list\n",
        "        new_lst.append(lst[start_index:end_index])\n",
        "    \n",
        "\n",
        "    return new_lst\n",
        "\n",
        "  # List \n",
        "lst = [\"권도예\",\"김민수\",\"김재우\",\"김현지\",\"나시은\",\"모순우\",\n",
        "              \"박태환\",\"변은서\",\"송채연\",\"양찬미\",\"여운정\",\"오민택\",\n",
        "              \"오윤석\",\"오은아\",\"우나림\",\"우지영\",\"유승호\",\"윤준석\",\n",
        "              \"이윤진\",\"이일웅\",\"이준호\",\"이탁연\",\"이현빈\",\"임동현\",\n",
        "              \"임동희\",\"장다원\",\"장민우\",\"장윤서\",\"정유은\",\"정하린\",\n",
        "              \"정혜림\",\"조윤환\",\"초조헌\",\"최미주\",\"최시은\",\"최이룸\",\n",
        "              \"하가은\",\"한예림\",\"한지윤\",]\n",
        "n = int(input(\"몇 개의 그룹을 편성할까요??: \"))\n",
        "new_lst = distribute_elements(lst, n)\n",
        "\n",
        "print(\"\\n\\n수강인원\",len(lst),\"명\\n\")\n",
        "group_num = 1\n",
        "for i in new_lst:\n",
        "  print(\"%5d 조\\n\"%group_num)\n",
        "  print(i)\n",
        "  print(\"\\n\")\n",
        "  group_num +=1"
      ],
      "metadata": {
        "id": "o1xfqqiCKjtg",
        "colab": {
          "base_uri": "https://localhost:8080/",
          "height": 1000
        },
        "outputId": "5f1b1906-7faf-4ac9-9f9b-b739e9b70092"
      },
      "execution_count": 25,
      "outputs": [
        {
          "output_type": "stream",
          "name": "stdout",
          "text": [
            "몇 개의 그룹을 편성할까요??: 10\n",
            "\n",
            "\n",
            "수강인원 39 명\n",
            "\n",
            "    1 조\n",
            "\n",
            "['최시은', '최미주', '정혜림', '박태환']\n",
            "\n",
            "\n",
            "    2 조\n",
            "\n",
            "['모순우', '나시은', '권도예', '장민우']\n",
            "\n",
            "\n",
            "    3 조\n",
            "\n",
            "['이윤진', '임동희', '오은아', '장윤서']\n",
            "\n",
            "\n",
            "    4 조\n",
            "\n",
            "['김현지', '우지영', '이준호', '최이룸']\n",
            "\n",
            "\n",
            "    5 조\n",
            "\n",
            "['유승호', '초조헌', '장다원', '오민택']\n",
            "\n",
            "\n",
            "    6 조\n",
            "\n",
            "['이현빈', '하가은', '한지윤', '한예림']\n",
            "\n",
            "\n",
            "    7 조\n",
            "\n",
            "['임동현', '조윤환', '양찬미', '이탁연']\n",
            "\n",
            "\n",
            "    8 조\n",
            "\n",
            "['오윤석', '김재우', '김민수', '여운정']\n",
            "\n",
            "\n",
            "    9 조\n",
            "\n",
            "['우나림', '이일웅', '정유은', '정하린']\n",
            "\n",
            "\n",
            "   10 조\n",
            "\n",
            "['변은서', '송채연', '윤준석']\n",
            "\n",
            "\n"
          ]
        },
        {
          "output_type": "execute_result",
          "data": {
            "text/plain": [
              "'\\nCertainly, let me try to explain in simpler terms.\\n\\nAfter we calculate the quotient and remainder using divmod(len(lst), n), we want to split the shuffled list lst into n portions of approximately equal size.\\n\\nTo do this, we use a loop that iterates over each portion of the shuffled list. For each portion, we calculate the start and end indices of that portion using the following formulas:\\n\\nstart_index = i * quotient + min(i, remainder): This formula calculates the starting index for the i-th portion of the shuffled list. The i term is used to skip over the elements that have already been assigned to previous portions. The quotient term is used to determine the size of each portion if there were no remainder. The min(i, remainder) term is used to add one extra element to the starting index for each of the first remainder portions, which have an extra element.\\n\\nend_index = start_index + quotient + (1 if i < remainder else 0): This formula calculates the ending index for the i-th portion of the shuffled list. The start_index term is used as the starting point for this portion. The quotient term is used to determine the size of each portion if there were no remainder. The (1 if i < remainder else 0) term is used to add one extra element to the ending index for each of the first remainder portions, which have an extra element.\\n\\nOnce we have calculated the start and end indices for the i-th portion, we use the slice notation lst[start_index:end_index] to extract that portion of the shuffled list, and we append it to the new_lst.\\n\\nIn summary, we are using some simple math to split the shuffled list into approximately equal portions, with the first remainder portions having one extra element each.\\n\\n'"
            ],
            "application/vnd.google.colaboratory.intrinsic+json": {
              "type": "string"
            }
          },
          "metadata": {},
          "execution_count": 25
        }
      ]
    },
    {
      "cell_type": "code",
      "source": [
        "import random\n",
        "\n",
        "std_lst = [\"권도예\",\"김민수\",\"김재우\",\"김현지\",\"나시은\",\"모순우\",\n",
        "           \"박태환\",\"변은서\",\"송채연\",\"양찬미\",\"여운정\",\"오민택\",\n",
        "           \"오윤석\",\"오은아\",\"우나림\",\"우지영\",\"유승호\",\"윤준석\",\n",
        "           \"이윤진\",\"이일웅\",\"이준호\",\"이탁연\",\"이현빈\",\"임동현\",\n",
        "           \"임동희\",\"장다원\",\"장민우\",\"장윤서\",\"정유은\",\"정하린\",\n",
        "           \"정혜림\",\"조윤환\",\"초조헌\",\"최미주\",\"최시은\",\"최이룸\",\n",
        "           \"하가은\",\"한예림\",\"한지윤\",]\n",
        "\n",
        "random.shuffle(std_lst)\n",
        "\n",
        "total = len(std_lst)\n",
        "\n",
        "user_input = int(input(\"몇 개의 그룹으로 편성할까요?:\"))\n",
        "\n",
        "quot, remainder = divmod(len(std_lst), user_input)\n",
        "\n",
        "start_index = 0\n",
        "group_num = 1\n",
        "for i in range(user_input):\n",
        "    end_index = start_index + quot + (1 if i < remainder else 0)\n",
        "    show_list = std_lst[start_index:end_index]\n",
        "    start_index = end_index\n",
        "    print(\"\\n\",group_num,\"조\")\n",
        "    print(show_list)\n",
        "    print(\"\\n\\n\")\n",
        "    group_num += 1"
      ],
      "metadata": {
        "colab": {
          "base_uri": "https://localhost:8080/"
        },
        "id": "gW9HjYQJp7BI",
        "outputId": "98652087-085f-4f47-f522-20523489da5d"
      },
      "execution_count": 29,
      "outputs": [
        {
          "output_type": "stream",
          "name": "stdout",
          "text": [
            "몇 개의 그룹으로 편성할까요?:9\n",
            "\n",
            " 1 조\n",
            "['김현지', '최시은', '여운정', '임동희', '정유은']\n",
            "\n",
            "\n",
            "\n",
            "\n",
            " 2 조\n",
            "['조윤환', '장다원', '나시은', '권도예', '유승호']\n",
            "\n",
            "\n",
            "\n",
            "\n",
            " 3 조\n",
            "['장윤서', '한예림', '이일웅', '하가은', '양찬미']\n",
            "\n",
            "\n",
            "\n",
            "\n",
            " 4 조\n",
            "['이탁연', '오민택', '최이룸', '변은서']\n",
            "\n",
            "\n",
            "\n",
            "\n",
            " 5 조\n",
            "['정혜림', '한지윤', '임동현', '최미주']\n",
            "\n",
            "\n",
            "\n",
            "\n",
            " 6 조\n",
            "['김재우', '우지영', '오은아', '우나림']\n",
            "\n",
            "\n",
            "\n",
            "\n",
            " 7 조\n",
            "['이윤진', '박태환', '송채연', '이현빈']\n",
            "\n",
            "\n",
            "\n",
            "\n",
            " 8 조\n",
            "['이준호', '모순우', '초조헌', '장민우']\n",
            "\n",
            "\n",
            "\n",
            "\n",
            " 9 조\n",
            "['윤준석', '김민수', '정하린', '오윤석']\n",
            "\n",
            "\n",
            "\n"
          ]
        }
      ]
    }
  ]
}