{
  "nbformat": 4,
  "nbformat_minor": 0,
  "metadata": {
    "colab": {
      "provenance": [],
      "authorship_tag": "ABX9TyNLDrFZUYzJCaHtfirSJ58N",
      "include_colab_link": true
    },
    "kernelspec": {
      "name": "python3",
      "display_name": "Python 3"
    },
    "language_info": {
      "name": "python"
    }
  },
  "cells": [
    {
      "cell_type": "markdown",
      "metadata": {
        "id": "view-in-github",
        "colab_type": "text"
      },
      "source": [
        "<a href=\"https://colab.research.google.com/github/Yeunseok97/just_for_fun/blob/main/group_sep(ver2)3_29.ipynb\" target=\"_parent\"><img src=\"https://colab.research.google.com/assets/colab-badge.svg\" alt=\"Open In Colab\"/></a>"
      ]
    },
    {
      "cell_type": "code",
      "source": [
        "#함수사용\n",
        "import random\n",
        "\n",
        "def shuffle_list(lst):\n",
        "    random.shuffle(lst)\n",
        "\n",
        "\n",
        "def distribute_elements(lst, n):\n",
        "\n",
        "    shuffle_list(lst)\n",
        "\n",
        "    quotient, remainder = divmod(len(lst), n)\n",
        "\n",
        "    new_lst = []\n",
        "    \n",
        "\n",
        "    for i in range(n):\n",
        "        \n",
        "        # Calculate the start and end indices for this portion of the list\n",
        "        start_index = i * quotient + min(i, remainder)\n",
        "        end_index = start_index + quotient + (1 if i < remainder else 0)\n",
        "        \n",
        "        # Add this portion of the shuffled list to the new list\n",
        "        new_lst.append(lst[start_index:end_index])\n",
        "\n",
        "\n",
        "    return new_lst\n",
        "f.close()\n",
        "\n",
        "  # List \n",
        "lst = [\"권도예\",\"김민수\",\"김재우\",\"김현지\",\"나시은\",\"모순우\",\n",
        "              \"박태환\",\"변은서\",\"송채연\",\"양찬미\",\"여운정\",\"오민택\",\n",
        "              \"오윤석\",\"오은아\",\"우나림\",\"우지영\",\"유승호\",\"윤준석\",\n",
        "              \"이윤진\",\"이일웅\",\"이준호\",\"이탁연\",\"이현빈\",\"임동현\",\n",
        "              \"임동희\",\"장다원\",\"장민우\",\"장윤서\",\"정유은\",\"정하린\",\n",
        "              \"정혜림\",\"조윤환\",\"초조헌\",\"최미주\",\"최시은\",\"최이룸\",\n",
        "              \"하가은\",\"한예림\",\"한지윤\",]\n",
        "n = int(input(\"몇 개의 그룹을 편성할까요??: \"))\n",
        "new_lst = distribute_elements(lst, n)\n",
        "\n",
        "print(\"\\n\\n수강인원\",len(lst),\"명\\n\")\n",
        "group_num = 1\n",
        "for i in new_lst:\n",
        "  print(\"%5d 조\\n\"%group_num)\n",
        "  print(i)\n",
        "  print(\"\\n\")\n",
        "  group_num +=1\n",
        "\n",
        "\n"
      ],
      "metadata": {
        "id": "o1xfqqiCKjtg"
      },
      "execution_count": null,
      "outputs": []
    },
    {
      "cell_type": "code",
      "source": [
        "#함수사용 없이\n",
        "import random\n",
        "\n",
        "std_lst = [\"권도예\",\"김민수\",\"김재우\",\"김현지\",\"나시은\",\"모순우\",\n",
        "           \"박태환\",\"변은서\",\"송채연\",\"양찬미\",\"여운정\",\"오민택\",\n",
        "           \"오윤석\",\"오은아\",\"우나림\",\"우지영\",\"유승호\",\"윤준석\",\n",
        "           \"이윤진\",\"이일웅\",\"이준호\",\"이탁연\",\"이현빈\",\"임동현\",\n",
        "           \"임동희\",\"장다원\",\"장민우\",\"장윤서\",\"정유은\",\"정하린\",\n",
        "           \"정혜림\",\"조윤환\",\"초조헌\",\"최미주\",\"최시은\",\"최이룸\",\n",
        "           \"하가은\",\"한예림\",\"한지윤\",]\n",
        "\n",
        "random.shuffle(std_lst)\n",
        "\n",
        "total = len(std_lst)\n",
        "\n",
        "user_input = int(input(\"몇 개의 그룹으로 편성할까요?:\"))\n",
        "\n",
        "f = open(\"그룹편성.txt\",\"w\")\n",
        "\n",
        "quot, remainder = divmod(len(std_lst), user_input)\n",
        "\n",
        "start_index = 0\n",
        "group_num = 1\n",
        "for i in range(user_input):\n",
        "    end_index = start_index + quot + (1 if i < remainder else 0)\n",
        "    show_list = std_lst[start_index:end_index]\n",
        "    start_index = end_index\n",
        "    print(\"\\n\",group_num,\"조\")\n",
        "    print(show_list)\n",
        "    print(\"\\n\\n\")"
      ],
      "metadata": {
        "id": "gW9HjYQJp7BI"
      },
      "execution_count": null,
      "outputs": []
    },
    {
      "cell_type": "code",
      "source": [
        "# txt파일생성 적용ver\n",
        "import random\n",
        "\n",
        "def shuffle_list(lst):\n",
        "    random.shuffle(lst)\n",
        "\n",
        "def distribute_elements(lst, n):\n",
        "    shuffle_list(lst)\n",
        "    quotient, remainder = divmod(len(lst), n)\n",
        "    new_lst = []\n",
        "    \n",
        "    for i in range(n):\n",
        "        # Calculate the start and end indices for this portion of the list\n",
        "        start_index = i * quotient + min(i, remainder)\n",
        "        end_index = start_index + quotient + (1 if i < remainder else 0)\n",
        "        \n",
        "        # Add this portion of the shuffled list to the new list\n",
        "        new_lst.append(lst[start_index:end_index])\n",
        "        \n",
        "    return new_lst\n",
        "\n",
        "# List \n",
        "lst = [\"권도예\",\"김민수\",\"김재우\",\"김현지\",\"나시은\",\"모순우\",\n",
        "              \"박태환\",\"변은서\",\"송채연\",\"양찬미\",\"여운정\",\"오민택\",\n",
        "              \"오윤석\",\"오은아\",\"우나림\",\"우지영\",\"유승호\",\"윤준석\",\n",
        "              \"이윤진\",\"이일웅\",\"이준호\",\"이탁연\",\"이현빈\",\"임동현\",\n",
        "              \"임동희\",\"장다원\",\"장민우\",\"장윤서\",\"정유은\",\"정하린\",\n",
        "              \"정혜림\",\"조윤환\",\"초조헌\",\"최미주\",\"최시은\",\"최이룸\",\n",
        "              \"하가은\",\"한예림\",\"한지윤\",]\n",
        "n = int(input(\"몇 개의 그룹을 편성할까요??: \"))\n",
        "new_lst = distribute_elements(lst, n)\n",
        "\n",
        "with open(\"그룹편성.txt\",\"w\") as f:\n",
        "    f.write(f\"수강인원 {len(lst)}명\\n\\n\")\n",
        "    \n",
        "    group_num = 1\n",
        "    for i in new_lst:\n",
        "        f.write(f\"{group_num} 조\\n\")\n",
        "        f.write(f\"{i}\\n\\n\")\n",
        "        group_num += 1"
      ],
      "metadata": {
        "colab": {
          "base_uri": "https://localhost:8080/"
        },
        "id": "kWke1J99FFL7",
        "outputId": "5cb2d4cc-a06b-4fc6-889a-b11027a5009b"
      },
      "execution_count": 16,
      "outputs": [
        {
          "name": "stdout",
          "output_type": "stream",
          "text": [
            "몇 개의 그룹을 편성할까요??: 10\n"
          ]
        }
      ]
    }
  ]
}